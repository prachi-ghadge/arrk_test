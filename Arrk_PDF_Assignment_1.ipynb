{
 "cells": [
  {
   "cell_type": "code",
   "execution_count": 1,
   "metadata": {
    "ExecuteTime": {
     "end_time": "2020-12-18T07:57:36.759687Z",
     "start_time": "2020-12-18T07:57:36.185065Z"
    }
   },
   "outputs": [],
   "source": [
    "from collections import defaultdict\n",
    "from arrk_functions import *\n",
    "import tabula\n",
    "import PyPDF2\n",
    "import warnings\n",
    "warnings.filterwarnings(\"ignore\",category=DeprecationWarning)\n",
    "import pandas as pd\n",
    "import numpy as np\n",
    "import json"
   ]
  },
  {
   "cell_type": "code",
   "execution_count": 2,
   "metadata": {
    "ExecuteTime": {
     "end_time": "2020-12-18T07:57:36.764674Z",
     "start_time": "2020-12-18T07:57:36.760691Z"
    }
   },
   "outputs": [],
   "source": [
    "file = 'C:/Users/pghadge/Downloads/Assignment-1.pdf'"
   ]
  },
  {
   "cell_type": "code",
   "execution_count": 3,
   "metadata": {
    "ExecuteTime": {
     "end_time": "2020-12-18T07:57:36.798581Z",
     "start_time": "2020-12-18T07:57:36.766635Z"
    }
   },
   "outputs": [
    {
     "data": {
      "text/plain": [
       "8"
      ]
     },
     "execution_count": 3,
     "metadata": {},
     "output_type": "execute_result"
    }
   ],
   "source": [
    "open_filename = open(file, 'rb')\n",
    "\n",
    "pdf = PyPDF2.PdfFileReader(open_filename)\n",
    "pdf.numPages"
   ]
  },
  {
   "cell_type": "markdown",
   "metadata": {},
   "source": [
    "# Applicant Info : we can find multiple applicants by getting a list of index numbers where the value is First name and all such dataframes will be processed the same way to get applicant information "
   ]
  },
  {
   "cell_type": "code",
   "execution_count": 4,
   "metadata": {
    "ExecuteTime": {
     "end_time": "2020-12-18T07:57:38.174251Z",
     "start_time": "2020-12-18T07:57:36.799553Z"
    }
   },
   "outputs": [],
   "source": [
    "applicant_info = tabula.read_pdf(file,pages=1)\n",
    "user_info_index = applicant_info.index[applicant_info['Number'] == 'First name'].values[0]"
   ]
  },
  {
   "cell_type": "code",
   "execution_count": 5,
   "metadata": {
    "ExecuteTime": {
     "end_time": "2020-12-18T07:57:38.180063Z",
     "start_time": "2020-12-18T07:57:38.176071Z"
    }
   },
   "outputs": [],
   "source": [
    "applicant_info = applicant_info.iloc[user_info_index:]\n"
   ]
  },
  {
   "cell_type": "code",
   "execution_count": 6,
   "metadata": {
    "ExecuteTime": {
     "end_time": "2020-12-18T07:57:38.198044Z",
     "start_time": "2020-12-18T07:57:38.183060Z"
    }
   },
   "outputs": [],
   "source": [
    "applicant_info = reshape_info_df(applicant_info)"
   ]
  },
  {
   "cell_type": "code",
   "execution_count": 7,
   "metadata": {
    "ExecuteTime": {
     "end_time": "2020-12-18T07:57:38.215964Z",
     "start_time": "2020-12-18T07:57:38.199008Z"
    }
   },
   "outputs": [],
   "source": [
    "applicant_data = get_demographic_info(applicant_info,['Address line 1','Address line 2', 'Address line 3', 'Town/city', 'Country'])\n"
   ]
  },
  {
   "cell_type": "markdown",
   "metadata": {},
   "source": [
    "# Agent Info : Similar process for extracting Agent Information as the field names are the same and we can reuse the same code for this "
   ]
  },
  {
   "cell_type": "code",
   "execution_count": 8,
   "metadata": {
    "ExecuteTime": {
     "end_time": "2020-12-18T07:57:39.253430Z",
     "start_time": "2020-12-18T07:57:38.217958Z"
    }
   },
   "outputs": [],
   "source": [
    "agent_info = tabula.read_pdf(file,pages=2)\n",
    "agent_info = reshape_info_df(agent_info)\n",
    "agent_data = get_demographic_info(agent_info,['Address line 1','Address line 2', 'Address line 3', 'Town/city', 'Country', 'Postcode'])"
   ]
  },
  {
   "cell_type": "code",
   "execution_count": 9,
   "metadata": {
    "ExecuteTime": {
     "end_time": "2020-12-18T07:57:39.261368Z",
     "start_time": "2020-12-18T07:57:39.255395Z"
    }
   },
   "outputs": [
    {
     "data": {
      "text/plain": [
       "dict_values([{'Name': ' Amin', 'Company name': 'Britbuild Properties Ltd', 'address': '166 Weir Road London United Kingdom'}])"
      ]
     },
     "execution_count": 9,
     "metadata": {},
     "output_type": "execute_result"
    }
   ],
   "source": [
    "applicant_data"
   ]
  },
  {
   "cell_type": "code",
   "execution_count": 10,
   "metadata": {
    "ExecuteTime": {
     "end_time": "2020-12-18T07:57:39.271374Z",
     "start_time": "2020-12-18T07:57:39.263362Z"
    }
   },
   "outputs": [
    {
     "data": {
      "text/plain": [
       "dict_values([{'Name': 'Ellen Creegan', 'Company name': 'Iceni Projects', 'address': 'This is the Space 68 Quay Street Manchester M3 3EJ'}])"
      ]
     },
     "execution_count": 10,
     "metadata": {},
     "output_type": "execute_result"
    }
   ],
   "source": [
    "agent_data"
   ]
  },
  {
   "cell_type": "markdown",
   "metadata": {},
   "source": [
    "# Materials data was pretty starightforward since we get the data in a tabular format we can easily extract data using slicing and use those values"
   ]
  },
  {
   "cell_type": "code",
   "execution_count": 11,
   "metadata": {
    "ExecuteTime": {
     "end_time": "2020-12-18T07:57:40.378649Z",
     "start_time": "2020-12-18T07:57:39.274334Z"
    }
   },
   "outputs": [
    {
     "data": {
      "text/plain": [
       "['Stock brickwork',\n",
       " 'Zinc cladding',\n",
       " 'Aluminium clad timber glazed windows',\n",
       " 'Aluminium clad timber doors']"
      ]
     },
     "execution_count": 11,
     "metadata": {},
     "output_type": "execute_result"
    }
   ],
   "source": [
    "materials_df = tabula.read_pdf(file,pages=3)\n",
    "materials_df.columns = ['description','materials']\n",
    "materials_df[materials_df['description']=='Description of proposed materials and finishes:']['materials'].tolist()\n"
   ]
  },
  {
   "cell_type": "code",
   "execution_count": 12,
   "metadata": {
    "ExecuteTime": {
     "end_time": "2020-12-18T07:57:40.384633Z",
     "start_time": "2020-12-18T07:57:40.379694Z"
    }
   },
   "outputs": [],
   "source": [
    "materials_dict ={}\n",
    "materials_dict['materials']=materials_df[materials_df['description']=='Description of proposed materials and finishes:']['materials'].tolist()\n"
   ]
  },
  {
   "cell_type": "code",
   "execution_count": 13,
   "metadata": {
    "ExecuteTime": {
     "end_time": "2020-12-18T07:57:40.398596Z",
     "start_time": "2020-12-18T07:57:40.387629Z"
    }
   },
   "outputs": [
    {
     "data": {
      "text/plain": [
       "dict_values([['Stock brickwork', 'Zinc cladding', 'Aluminium clad timber glazed windows', 'Aluminium clad timber doors']])"
      ]
     },
     "execution_count": 13,
     "metadata": {},
     "output_type": "execute_result"
    }
   ],
   "source": [
    "materials_dict.values()"
   ]
  },
  {
   "cell_type": "code",
   "execution_count": 14,
   "metadata": {
    "ExecuteTime": {
     "end_time": "2020-12-18T07:57:40.417598Z",
     "start_time": "2020-12-18T07:57:40.400598Z"
    }
   },
   "outputs": [],
   "source": [
    "write_json(materials_dict.values(),'materials_pdf1.json')\n",
    "write_json(agent_data,'agent_details_pdf1.json')\n",
    "write_json(applicant_data,'applicant_details_pdf1.json')"
   ]
  }
 ],
 "metadata": {
  "kernelspec": {
   "display_name": "Python 3",
   "language": "python",
   "name": "python3"
  },
  "language_info": {
   "codemirror_mode": {
    "name": "ipython",
    "version": 3
   },
   "file_extension": ".py",
   "mimetype": "text/x-python",
   "name": "python",
   "nbconvert_exporter": "python",
   "pygments_lexer": "ipython3",
   "version": "3.7.3"
  }
 },
 "nbformat": 4,
 "nbformat_minor": 2
}
