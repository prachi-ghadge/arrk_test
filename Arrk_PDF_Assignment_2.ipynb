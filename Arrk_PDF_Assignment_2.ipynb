{
 "cells": [
  {
   "cell_type": "code",
   "execution_count": 1,
   "metadata": {
    "ExecuteTime": {
     "end_time": "2020-12-18T07:57:47.965023Z",
     "start_time": "2020-12-18T07:57:47.363746Z"
    }
   },
   "outputs": [],
   "source": [
    "from collections import defaultdict\n",
    "from arrk_functions import *\n",
    "import tabula\n",
    "import PyPDF2\n",
    "import warnings\n",
    "import pandas as pd\n",
    "import numpy as np\n",
    "import itertools\n",
    "warnings.filterwarnings(\"ignore\",category=DeprecationWarning)"
   ]
  },
  {
   "cell_type": "code",
   "execution_count": 2,
   "metadata": {
    "ExecuteTime": {
     "end_time": "2020-12-18T07:57:47.976942Z",
     "start_time": "2020-12-18T07:57:47.971953Z"
    }
   },
   "outputs": [],
   "source": [
    "file = 'C:/Users/pghadge/Downloads/Assignment-2.pdf'"
   ]
  },
  {
   "cell_type": "code",
   "execution_count": 3,
   "metadata": {
    "ExecuteTime": {
     "end_time": "2020-12-18T07:57:48.010880Z",
     "start_time": "2020-12-18T07:57:47.980931Z"
    }
   },
   "outputs": [
    {
     "data": {
      "text/plain": [
       "4"
      ]
     },
     "execution_count": 3,
     "metadata": {},
     "output_type": "execute_result"
    }
   ],
   "source": [
    "open_filename = open(file, 'rb')\n",
    "\n",
    "pdf = PyPDF2.PdfFileReader(open_filename)\n",
    "pdf.numPages"
   ]
  },
  {
   "cell_type": "markdown",
   "metadata": {},
   "source": [
    "# Since the data can be easily extracted from tables we use the same functions developed for the first pdf and get the desired data"
   ]
  },
  {
   "cell_type": "code",
   "execution_count": 4,
   "metadata": {
    "ExecuteTime": {
     "end_time": "2020-12-18T07:57:48.056851Z",
     "start_time": "2020-12-18T07:57:48.011846Z"
    }
   },
   "outputs": [],
   "source": [
    "text_list = []\n",
    "for page in range(0,pdf.numPages):\n",
    "    text_list.append(pdf.getPage(page).extractText())"
   ]
  },
  {
   "cell_type": "code",
   "execution_count": 5,
   "metadata": {
    "ExecuteTime": {
     "end_time": "2020-12-18T07:57:51.884394Z",
     "start_time": "2020-12-18T07:57:48.057756Z"
    }
   },
   "outputs": [],
   "source": [
    "table_list =[]\n",
    "for page in range(1,4):\n",
    "    table_list.append(tabula.read_pdf(file,pages=page,multiple_tables=True))"
   ]
  },
  {
   "cell_type": "code",
   "execution_count": 6,
   "metadata": {
    "ExecuteTime": {
     "end_time": "2020-12-18T07:57:51.889386Z",
     "start_time": "2020-12-18T07:57:51.885338Z"
    }
   },
   "outputs": [],
   "source": [
    "flatten = list(itertools.chain.from_iterable(table_list))"
   ]
  },
  {
   "cell_type": "code",
   "execution_count": 7,
   "metadata": {
    "ExecuteTime": {
     "end_time": "2020-12-18T07:57:51.904293Z",
     "start_time": "2020-12-18T07:57:51.892320Z"
    }
   },
   "outputs": [],
   "source": [
    "full_table = pd.concat(flatten,ignore_index=True)\n",
    "full_table.columns = ['information','value']\n",
    "index_list = full_table.index[full_table['information'] == 'First name'].tolist()"
   ]
  },
  {
   "cell_type": "code",
   "execution_count": 8,
   "metadata": {
    "ExecuteTime": {
     "end_time": "2020-12-18T07:57:51.915294Z",
     "start_time": "2020-12-18T07:57:51.906283Z"
    }
   },
   "outputs": [],
   "source": [
    "applicant1 = full_table.iloc[index_list[0]:index_list[1]]\n",
    "applicant2 = full_table.iloc[index_list[1]:]"
   ]
  },
  {
   "cell_type": "code",
   "execution_count": 9,
   "metadata": {
    "ExecuteTime": {
     "end_time": "2020-12-18T07:57:51.942187Z",
     "start_time": "2020-12-18T07:57:51.916256Z"
    }
   },
   "outputs": [],
   "source": [
    "applicant1 = reshape_info_df(applicant1)\n",
    "applicant2 = reshape_info_df(applicant2)"
   ]
  },
  {
   "cell_type": "code",
   "execution_count": 10,
   "metadata": {
    "ExecuteTime": {
     "end_time": "2020-12-18T07:57:51.963191Z",
     "start_time": "2020-12-18T07:57:51.943185Z"
    }
   },
   "outputs": [],
   "source": [
    "applicant1_data = get_demographic_info(applicant1,['Address line 1',\n",
    "       'Address line 2', 'Address line 3', 'Town/city', 'Country', 'Postcode'])\n",
    "applicant2_data = get_demographic_info(applicant2,['Address line 1',\n",
    "       'Address line 2', 'Address line 3', 'Town/city', 'Country', 'Postcode'])"
   ]
  },
  {
   "cell_type": "code",
   "execution_count": 11,
   "metadata": {
    "ExecuteTime": {
     "end_time": "2020-12-18T07:57:51.972158Z",
     "start_time": "2020-12-18T07:57:51.964128Z"
    }
   },
   "outputs": [
    {
     "data": {
      "text/plain": [
       "dict_values([{'Name': ' Duffus', 'Company name': nan, 'address': 'East Sockburn Farm Girsby DL2 1PR'}])"
      ]
     },
     "execution_count": 11,
     "metadata": {},
     "output_type": "execute_result"
    }
   ],
   "source": [
    "applicant1_data"
   ]
  },
  {
   "cell_type": "code",
   "execution_count": 12,
   "metadata": {
    "ExecuteTime": {
     "end_time": "2020-12-18T07:57:51.981118Z",
     "start_time": "2020-12-18T07:57:51.974102Z"
    }
   },
   "outputs": [
    {
     "data": {
      "text/plain": [
       "dict_values([{'Name': 'Rob Stubbs', 'Company name': 'Bridgewater Construction UK Ltd', 'address': 'Bridgewater Construction (UK) Ltd Unit C30 Rosehill Industrial Estate Stoke Heath Market Drayton United Kingdom TF9 2JU'}])"
      ]
     },
     "execution_count": 12,
     "metadata": {},
     "output_type": "execute_result"
    }
   ],
   "source": [
    "applicant2_data"
   ]
  },
  {
   "cell_type": "markdown",
   "metadata": {},
   "source": [
    "# Extracting the material info was a challenge here as the data was avialable only in textual format so we used string methods to filter the text and extract relevant info "
   ]
  },
  {
   "cell_type": "code",
   "execution_count": 13,
   "metadata": {
    "ExecuteTime": {
     "end_time": "2020-12-18T07:57:51.995084Z",
     "start_time": "2020-12-18T07:57:51.982080Z"
    }
   },
   "outputs": [
    {
     "name": "stdout",
     "output_type": "stream",
     "text": [
      "Phrase Not Present in current Text\n",
      "Phrase Not Present in current Text\n",
      "Found Phrase in current Text and appended to new list\n",
      "Phrase Not Present in current Text\n"
     ]
    }
   ],
   "source": [
    "materials = get_details(text_list,'Please describe the walls and the roof materials and colours')"
   ]
  },
  {
   "cell_type": "code",
   "execution_count": 14,
   "metadata": {
    "ExecuteTime": {
     "end_time": "2020-12-18T07:57:52.005048Z",
     "start_time": "2020-12-18T07:57:51.997040Z"
    }
   },
   "outputs": [
    {
     "data": {
      "text/plain": [
       "['Please describe the walls and the roof materials and coloursWalls - MaterialsClad with Tanalised Timber Yorkshire BoardingWalls - External colourNatural Tanalised Timber FinishRoof - MaterialsFibre CementRoof - External colourNatural GreyHas an agricultural building been constructed on this unit within the last two years?Yes  NoWould the proposed building be used to house livestock, slurry or sewage sludge?Yes  NoWould the ground area covered by the proposed agricultural building exceed 1000 square metres?Please note: If the ground area covered exceeds 1000 square metres it will not qualify as Permitted Development andan application for Planning Permission will be required.Yes  NoHas any building, works, pond, plant/machinery, or fishtank been erected within 90 metres of the proposed developmentwithin the last two years?Yes  No5. The SiteWhat is the total area of the entire agriculturalunit? (1 hectare = 10,000 square metres)328.0Scalesq.metresWhat is the area of the parcel of land where thedevelopment is to be located?Hectares1 or moreHow long has the land on which the proposed development would be located been in use for agriculture for the purposes of a trade or business?Years100Months0Is the proposed development reasonably necessary for the purposes of agriculture?Yes  NoIf yes, please explain whyClient currently has to store his hay outside where it is exposed to the weather. The hay needs to be stored insideFarm Implements and machinery are also stored outside and need bringing undercover for safety and securityIs the proposed development designed for the purposes of agriculture?Yes  NoIf yes, please explain whyThe building will suit the needs of the farm at this timeDoes the proposed development involve any alteration to a dwelling?Yes  NoIs the proposed development more than 25 metres from a metalled part of a trunk or classified road?Yes  NoPlanning Portal Reference: PP-08577582']"
      ]
     },
     "execution_count": 14,
     "metadata": {},
     "output_type": "execute_result"
    }
   ],
   "source": [
    "materials"
   ]
  },
  {
   "cell_type": "code",
   "execution_count": 15,
   "metadata": {
    "ExecuteTime": {
     "end_time": "2020-12-18T07:57:52.015214Z",
     "start_time": "2020-12-18T07:57:52.006016Z"
    }
   },
   "outputs": [],
   "source": [
    "materials_list = [get_info_from_text(materials[0], 'Walls - Materials', 'Walls - External colour'),\n",
    "                  get_info_from_text(materials[0], 'Walls - External colour', 'Roof - Materials'),\n",
    "                 get_info_from_text(materials[0], 'Roof - Materials', 'Roof - External colour'),\n",
    "                 get_info_from_text(materials[0], 'Roof - External colour', 'Has an'),]"
   ]
  },
  {
   "cell_type": "code",
   "execution_count": 16,
   "metadata": {
    "ExecuteTime": {
     "end_time": "2020-12-18T07:57:52.025189Z",
     "start_time": "2020-12-18T07:57:52.016214Z"
    }
   },
   "outputs": [],
   "source": [
    "materials_dict ={}\n",
    "materials_dict['materials'] = materials_list"
   ]
  },
  {
   "cell_type": "code",
   "execution_count": 17,
   "metadata": {
    "ExecuteTime": {
     "end_time": "2020-12-18T07:57:52.034193Z",
     "start_time": "2020-12-18T07:57:52.026188Z"
    }
   },
   "outputs": [
    {
     "data": {
      "text/plain": [
       "{'materials': ['Clad with Tanalised Timber Yorkshire Boarding',\n",
       "  'Natural Tanalised Timber Finish',\n",
       "  'Fibre Cement',\n",
       "  'Natural Grey']}"
      ]
     },
     "execution_count": 17,
     "metadata": {},
     "output_type": "execute_result"
    }
   ],
   "source": [
    "materials_dict"
   ]
  },
  {
   "cell_type": "code",
   "execution_count": 18,
   "metadata": {
    "ExecuteTime": {
     "end_time": "2020-12-18T07:57:52.050150Z",
     "start_time": "2020-12-18T07:57:52.035163Z"
    }
   },
   "outputs": [],
   "source": [
    "write_json(materials_dict.values(),'materials_pdf2.json')\n",
    "write_json(applicant1_data,'applicant1_data_pdf2.json')\n",
    "write_json(applicant2_data,'applicant2_data_pdf2.json')"
   ]
  }
 ],
 "metadata": {
  "kernelspec": {
   "display_name": "Python 3",
   "language": "python",
   "name": "python3"
  },
  "language_info": {
   "codemirror_mode": {
    "name": "ipython",
    "version": 3
   },
   "file_extension": ".py",
   "mimetype": "text/x-python",
   "name": "python",
   "nbconvert_exporter": "python",
   "pygments_lexer": "ipython3",
   "version": "3.7.3"
  }
 },
 "nbformat": 4,
 "nbformat_minor": 2
}
